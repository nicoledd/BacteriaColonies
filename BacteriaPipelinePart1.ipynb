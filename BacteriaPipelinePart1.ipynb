{
 "cells": [
  {
   "cell_type": "code",
   "execution_count": 1,
   "metadata": {},
   "outputs": [],
   "source": [
    "# GLOBAL VARIABLES AND IMPORTED MODULES\n",
    "\n",
    "# used to read names of all raw bacteria images\n",
    "#    and to create new directories \n",
    "import os\n",
    "\n",
    "# used to resize raw bacteria images\n",
    "from PIL import Image\n",
    "\n",
    "# used to draw black circle on bacteria image\n",
    "import cv2\n",
    "import numpy as np\n",
    "\n",
    "raw_directory_name = 'Step 0 - Raw Bacteria Images/'\n",
    "resized_directory_name = 'Step 1 - Resized Raw Bacteria Images/'\n",
    "blk_directory_name = 'Step 2 - Darken Background/'"
   ]
  },
  {
   "cell_type": "code",
   "execution_count": 2,
   "metadata": {},
   "outputs": [],
   "source": [
    "# CREATE A NEW DIRECTORY 'Step 1 - Resized Raw Bacteria Images'\n",
    "#    RESIZE ALL RAW BACTERIA IMAGES AND SAVE IMAGES IN NEW DIRECTORY\n",
    "\n",
    "# create a new directory 'Step 1 - Resized Raw Bacteria Images'\n",
    "try:\n",
    "    os.mkdir(resized_directory_name)\n",
    "except:\n",
    "    pass\n",
    "\n",
    "# open the raw bacteria image files\n",
    "#   resize and save the raw bacteria image files to the new directory\n",
    "with os.scandir(raw_directory_name) as raw_imgs:\n",
    "    for raw_img in raw_imgs:\n",
    "        unre_img = Image.open(raw_directory_name + raw_img.name)\n",
    "        re_img = unre_img.resize((2000, 2000))\n",
    "        re_img.save(resized_directory_name + raw_img.name)\n",
    "        unre_img.close()\n",
    "\n",
    "# close the raw bacteria image files\n",
    "raw_imgs.close()"
   ]
  },
  {
   "cell_type": "code",
   "execution_count": 18,
   "metadata": {},
   "outputs": [],
   "source": [
    "# CREATE A NEW DIRECTORY 'Step 2 - Darken Background'\n",
    "#    DRAW A CIRCLE AROUND THE IMAGE; EVERYTHING OUTSIDE THE CIRCLE SHOULD BE BLACK\n",
    "\n",
    "# create a new directory 'Step 1 - Resized Raw Bacteria Images'\n",
    "try:\n",
    "    os.mkdir(blk_directory_name)\n",
    "except:\n",
    "    pass\n",
    "\n",
    "# open the resized bacteria image files\n",
    "with os.scandir(resized_directory_name) as re_imgs:\n",
    "    for re_img in re_imgs:\n",
    "        # read image\n",
    "        unbl_img = cv2.imread(resized_directory_name + re_img.name)\n",
    "        hh, ww = unbl_img.shape[:2]\n",
    "        hh2 = hh//2\n",
    "        ww2 = ww//2\n",
    "        # define circles\n",
    "        radius = int(hh2*0.8)\n",
    "        xc = hh2\n",
    "        yc = ww2\n",
    "        # draw filled circle in white on black background as mask\n",
    "        mask = np.zeros_like(unbl_img)\n",
    "        mask = cv2.circle(mask, (xc, yc), radius, (255,255,255), -1)\n",
    "        # apply mask to image\n",
    "        bl_img = cv2.bitwise_and(unbl_img, mask)\n",
    "        # save results\n",
    "        cv2.imwrite(blk_directory_name + re_img.name, bl_img)\n",
    "\n",
    "# close the resized bacteria image files\n",
    "re_imgs.close()"
   ]
  },
  {
   "cell_type": "code",
   "execution_count": null,
   "metadata": {},
   "outputs": [],
   "source": []
  }
 ],
 "metadata": {
  "kernelspec": {
   "display_name": "Python 3",
   "language": "python",
   "name": "python3"
  },
  "language_info": {
   "codemirror_mode": {
    "name": "ipython",
    "version": 3
   },
   "file_extension": ".py",
   "mimetype": "text/x-python",
   "name": "python",
   "nbconvert_exporter": "python",
   "pygments_lexer": "ipython3",
   "version": "3.7.4"
  }
 },
 "nbformat": 4,
 "nbformat_minor": 2
}
